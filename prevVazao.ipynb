{
  "nbformat": 4,
  "nbformat_minor": 0,
  "metadata": {
    "colab": {
      "provenance": [],
      "mount_file_id": "1lgmjgaN7giip498FqVh5ttWUb2jaE4w8",
      "authorship_tag": "ABX9TyOQM8LIhRRMpmLwFTKSG7NN",
      "include_colab_link": true
    },
    "kernelspec": {
      "name": "python3",
      "display_name": "Python 3"
    },
    "language_info": {
      "name": "python"
    }
  },
  "cells": [
    {
      "cell_type": "markdown",
      "metadata": {
        "id": "view-in-github",
        "colab_type": "text"
      },
      "source": [
        "<a href=\"https://colab.research.google.com/github/capozzolicaluan/sistema_alerta/blob/main/prevVazao.ipynb\" target=\"_parent\"><img src=\"https://colab.research.google.com/assets/colab-badge.svg\" alt=\"Open In Colab\"/></a>"
      ]
    },
    {
      "cell_type": "code",
      "execution_count": null,
      "metadata": {
        "id": "iT1fn1-WXZzk"
      },
      "outputs": [],
      "source": [
        "# Limpar todas as variáveis\n",
        "from IPython import get_ipython\n",
        "get_ipython().magic('reset -sf')\n",
        "\n",
        "# Código para reiniciar o ambiente do Colab\n",
        "import os\n",
        "os.kill(os.getpid(), 9)"
      ]
    },
    {
      "cell_type": "code",
      "source": [
        "# Importando as bibliotecas necessárias\n",
        "import requests\n",
        "import xml.etree.ElementTree as ET\n",
        "import pandas as pd\n",
        "from datetime import datetime, timedelta\n",
        "import gc\n",
        "\n",
        "# Liberar memória manualmente\n",
        "_ = gc.collect()"
      ],
      "metadata": {
        "id": "hbjo5QFmXed2"
      },
      "execution_count": 1,
      "outputs": []
    },
    {
      "cell_type": "code",
      "source": [
        "from google.colab import drive\n",
        "drive.mount('/content/drive')"
      ],
      "metadata": {
        "colab": {
          "base_uri": "https://localhost:8080/"
        },
        "id": "6XEevaL6XgIp",
        "outputId": "dbf76c29-5673-4143-c86f-3796b19864d3"
      },
      "execution_count": 2,
      "outputs": [
        {
          "output_type": "stream",
          "name": "stdout",
          "text": [
            "Drive already mounted at /content/drive; to attempt to forcibly remount, call drive.mount(\"/content/drive\", force_remount=True).\n"
          ]
        }
      ]
    },
    {
      "cell_type": "code",
      "source": [
        "caminho_drive = \"/content/drive/MyDrive/2024-2025\""
      ],
      "metadata": {
        "id": "tyvvPFdRZbbs"
      },
      "execution_count": 3,
      "outputs": []
    },
    {
      "cell_type": "code",
      "source": [
        "# Caminho para o arquivo Excel\n",
        "arquivo_excel = f\"{caminho_drive}/DADOS_AJUSTADOS.xlsx\"\n",
        "\n",
        "# Ler o arquivo Excel\n",
        "excel = pd.ExcelFile(arquivo_excel)\n",
        "\n",
        "# Criar um dicionário com os nomes das abas como chaves e os DataFrames como valores\n",
        "abas_dfs = {aba: excel.parse(aba) for aba in excel.sheet_names}\n",
        "\n",
        "# Converter para uma lista de DataFrames, nomeada com os nomes das abas\n",
        "listas_dfs = [(nome, abas_dfs[nome]) for nome in abas_dfs]"
      ],
      "metadata": {
        "id": "_DWiRMrQ3Tw4"
      },
      "execution_count": 11,
      "outputs": []
    },
    {
      "cell_type": "code",
      "source": [
        "#   Qprev_campos(t+14) = 0.7236*Qcardoso(t-3) + 1.0677*Qfidelis(t)\n",
        "\n",
        "listas_dfs[0]"
      ],
      "metadata": {
        "colab": {
          "base_uri": "https://localhost:8080/"
        },
        "id": "fJaeLdZj48B6",
        "outputId": "7373b35d-492b-46c5-bdf8-f1fedd704131"
      },
      "execution_count": 12,
      "outputs": [
        {
          "output_type": "execute_result",
          "data": {
            "text/plain": [
              "('Estacao_58730001',\n",
              "      CodEstacao            DataHora  Vazao  Nivel  Chuva\n",
              " 0      58730001 2024-12-17 09:00:00  34.08  205.0    0.0\n",
              " 1      58730001 2024-12-17 09:15:00  33.60  204.0    0.0\n",
              " 2      58730001 2024-12-17 09:30:00  33.60  204.0    0.0\n",
              " 3      58730001 2024-12-17 09:45:00  33.60  204.0    0.0\n",
              " 4      58730001 2024-12-17 10:00:00  33.60  204.0    0.0\n",
              " ..          ...                 ...    ...    ...    ...\n",
              " 476    58730001 2024-12-22 08:00:00  84.47  294.0    0.2\n",
              " 477    58730001 2024-12-22 08:15:00  83.07  292.0    0.2\n",
              " 478    58730001 2024-12-22 08:30:00  82.38  291.0    0.0\n",
              " 479    58730001 2024-12-22 08:45:00  80.99  289.0    0.2\n",
              " 480    58730001 2024-12-22 09:00:00  80.30  288.0    0.0\n",
              " \n",
              " [481 rows x 5 columns])"
            ]
          },
          "metadata": {},
          "execution_count": 12
        }
      ]
    }
  ]
}