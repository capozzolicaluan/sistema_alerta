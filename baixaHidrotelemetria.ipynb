{
  "nbformat": 4,
  "nbformat_minor": 0,
  "metadata": {
    "colab": {
      "provenance": [],
      "authorship_tag": "ABX9TyOtD6MhT6cv+8LLEZlUACUk"
    },
    "kernelspec": {
      "name": "python3",
      "display_name": "Python 3"
    },
    "language_info": {
      "name": "python"
    }
  },
  "cells": [
    {
      "cell_type": "code",
      "source": [
        "# Limpar todas as variáveis\n",
        "from IPython import get_ipython\n",
        "get_ipython().magic('reset -sf')\n",
        "\n",
        "# Código para reiniciar o ambiente do Colab\n",
        "import os\n",
        "os.kill(os.getpid(), 9)"
      ],
      "metadata": {
        "id": "PMu-5U9uNiki"
      },
      "execution_count": null,
      "outputs": []
    },
    {
      "cell_type": "code",
      "execution_count": null,
      "metadata": {
        "id": "xN-6ZRkj-5xf"
      },
      "outputs": [],
      "source": [
        "# Importando as bibliotecas necessárias\n",
        "import requests\n",
        "import xml.etree.ElementTree as ET\n",
        "import pandas as pd\n",
        "from datetime import datetime, timedelta\n",
        "import gc\n",
        "\n",
        "# Liberar memória manualmente\n",
        "_ = gc.collect()"
      ]
    },
    {
      "cell_type": "code",
      "source": [
        "from google.colab import drive\n",
        "drive.mount('/content/drive')"
      ],
      "metadata": {
        "id": "S2e7tzigf_2V"
      },
      "execution_count": null,
      "outputs": []
    },
    {
      "cell_type": "code",
      "source": [
        "# funcao para indicar as datas de falha nos dados de telemetria\n",
        "def preenche_falhas(dataframe, inicio, fim, freq=\"15min\"):\n",
        "    \"\"\"\n",
        "    Gera uma sequência de data e hora com base no intervalo fornecido.\n",
        "\n",
        "    Parâmetros:\n",
        "        inicio (str): Data e hora inicial (formato: 'YYYY-MM-DD HH:MM:SS').\n",
        "        fim (str): Data e hora final (formato: 'YYYY-MM-DD HH:MM:SS').\n",
        "        freq (str): Frequência dos intervalos (exemplo: '15T' para 15 minutos).\n",
        "\n",
        "    Retorna:\n",
        "        pandas.DataFrame: DataFrame contendo a sequência de datas e horas.\n",
        "    \"\"\"\n",
        "    # converte a data em string para formato datetime\n",
        "    inicio = datetime.strptime(inicio, \"%d/%m/%Y\")\n",
        "    fim = datetime.strptime(fim, \"%d/%m/%Y\")\n",
        "\n",
        "    # cria a sequencia completa de passos temporais\n",
        "    datas = pd.date_range(start=inicio, end=fim, freq=freq)\n",
        "\n",
        "    # cria pandas dataframe com uma coluna\n",
        "    datas = pd.DataFrame(datas,columns=[\"DataHora\"])\n",
        "\n",
        "    # Convertendo os dados de entrada para um DataFrame do pandas\n",
        "    dataframe = pd.DataFrame(dataframe)\n",
        "\n",
        "    # converte coluna DataHora para o formato datetime\n",
        "    dataframe['DataHora'] = pd.to_datetime(dataframe['DataHora'])\n",
        "\n",
        "    # Mesclar o DataFrame completo (datas) com o original gerando NaN quando nao tem no original\n",
        "    # retornar o resultado para principal\n",
        "    return pd.merge(datas, dataframe, on='DataHora', how='left')"
      ],
      "metadata": {
        "id": "0gSUoKY4lihX"
      },
      "execution_count": null,
      "outputs": []
    },
    {
      "cell_type": "code",
      "source": [
        "caminho_drive = \"/content/drive/MyDrive/2024-2025\""
      ],
      "metadata": {
        "id": "r1ZwFFYthXSq"
      },
      "execution_count": 4,
      "outputs": []
    },
    {
      "cell_type": "markdown",
      "source": [
        "Inserir a data para inicio da previsao"
      ],
      "metadata": {
        "id": "CygxEhGFL46X"
      }
    },
    {
      "cell_type": "code",
      "source": [
        "inicio_previsao = \"22/12/2024\"\n",
        "\n",
        "# Converter para objeto de data\n",
        "inicio_previsao = datetime.strptime(inicio_previsao, \"%d/%m/%Y\")\n",
        "\n",
        "# converter no formato US\n",
        "final = inicio_previsao.strftime(\"%Y-%m-%d\")\n",
        "\n",
        "# data final do intervalo de dados\n",
        "inicio_serie = inicio_previsao - timedelta(days=5)\n",
        "\n",
        "# converter para o formato US\n",
        "inicio = inicio_serie.strftime(\"%Y-%m-%d\")\n",
        "\n",
        "# converte para o formato BR\n",
        "data_inicio_serie = inicio_serie.strftime(\"%d/%m/%Y\")\n",
        "data_final_serie  = inicio_previsao.strftime(\"%d/%m/%Y\")\n",
        "\n",
        "# codigos das estacoes de interesse\n",
        "codigos_estacao  = ['58730001','58735000','58736000','58765010','58770000','58790002','58792100',\n",
        "                    '58880001','58920000','58930000','58934000','58940000','58960000','58974000']"
      ],
      "metadata": {
        "id": "JcaKM2FoMAb8"
      },
      "execution_count": 5,
      "outputs": []
    },
    {
      "cell_type": "code",
      "source": [
        "# URL do serviço\n",
        "url = \"https://telemetriaws1.ana.gov.br/ServiceANA.asmx/DadosHidrometeorologicos\""
      ],
      "metadata": {
        "id": "NLAdeM_EWlte"
      },
      "execution_count": 6,
      "outputs": []
    },
    {
      "cell_type": "code",
      "source": [
        "# Criando um dicionário para armazenar os DataFrames\n",
        "dados_estacoes = {}"
      ],
      "metadata": {
        "id": "8iD1VnUtP8SJ"
      },
      "execution_count": 7,
      "outputs": []
    },
    {
      "cell_type": "code",
      "source": [
        "for codigo in codigos_estacao:\n",
        "\n",
        "    print(f\"Buscando dados para o código de estação: {codigo}\")\n",
        "    # Parâmetros da requisição\n",
        "    params = {\n",
        "        \"CodEstacao\": codigo,\n",
        "        \"DataInicio\": data_inicio_serie,\n",
        "        \"DataFim\": data_final_serie\n",
        "    }\n",
        "\n",
        "    # Realizando a requisição GET\n",
        "    response = requests.get(url, params=params)\n",
        "\n",
        "    # Verificando o status da resposta\n",
        "    if response.status_code != 200:\n",
        "        print(f\"Erro na requisição para o código {codigo}: {response.status_code}\")\n",
        "        continue\n",
        "\n",
        "    # Parsing do conteúdo XML\n",
        "    xml_content = response.content\n",
        "    root = ET.fromstring(xml_content)\n",
        "\n",
        "    # Extraindo os dados\n",
        "    dados = []\n",
        "    for entry in root.findall(\".//DocumentElement/DadosHidrometereologicos\"):\n",
        "        dados.append({\n",
        "            \"CodEstacao\": entry.find(\"CodEstacao\").text,\n",
        "            \"DataHora\": entry.find(\"DataHora\").text,\n",
        "            \"Vazao\": entry.find(\"Vazao\").text,\n",
        "            \"Nivel\": entry.find(\"Nivel\").text,\n",
        "            \"Chuva\": entry.find(\"Chuva\").text,\n",
        "        })\n",
        "\n",
        "    # gera sequencia e preenche periodo\n",
        "    dados_completos = preenche_falhas(dataframe=dados, inicio=data_inicio_serie, fim=data_final_serie, freq=\"15min\")\n",
        "\n",
        "    # Salvando o DataFrame no dicionário\n",
        "    dados_estacoes[codigo] = dados_completos\n",
        "\n",
        "# Salvando os dados em um único arquivo Excel, com uma aba para cada estação\n",
        "with pd.ExcelWriter(f\"{caminho_drive}/dados_hidrometeorologicos_{inicio}_{final}.xlsx\") as writer:\n",
        "    for codigo, df in dados_estacoes.items():\n",
        "        df.to_excel(writer, sheet_name=f\"Estacao_{codigo}\", index=False)\n",
        "\n",
        "print(\"Dados salvos no arquivo 'dados_hidrometeorologicos.xlsx'\")"
      ],
      "metadata": {
        "colab": {
          "base_uri": "https://localhost:8080/"
        },
        "id": "SgXHJ61uZ_64",
        "outputId": "09931dd4-bc19-499c-f742-226c0697c98c"
      },
      "execution_count": 8,
      "outputs": [
        {
          "output_type": "stream",
          "name": "stdout",
          "text": [
            "Buscando dados para o código de estação: 58730001\n",
            "Buscando dados para o código de estação: 58735000\n",
            "Buscando dados para o código de estação: 58736000\n",
            "Buscando dados para o código de estação: 58765010\n",
            "Buscando dados para o código de estação: 58770000\n",
            "Buscando dados para o código de estação: 58790002\n",
            "Buscando dados para o código de estação: 58792100\n",
            "Buscando dados para o código de estação: 58880001\n",
            "Buscando dados para o código de estação: 58920000\n",
            "Buscando dados para o código de estação: 58930000\n",
            "Buscando dados para o código de estação: 58934000\n",
            "Buscando dados para o código de estação: 58940000\n",
            "Buscando dados para o código de estação: 58960000\n",
            "Buscando dados para o código de estação: 58974000\n",
            "Dados salvos no arquivo 'dados_hidrometeorologicos.xlsx'\n"
          ]
        }
      ]
    },
    {
      "cell_type": "code",
      "source": [],
      "metadata": {
        "id": "70ajmufam2o8"
      },
      "execution_count": null,
      "outputs": []
    }
  ]
}